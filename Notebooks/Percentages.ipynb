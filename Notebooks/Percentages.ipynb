{
 "cells": [
  {
   "cell_type": "markdown",
   "metadata": {},
   "source": [
    "# Percentages\n",
    "\n",
    "In this notebook, I will be calculating some percentages. I will first calculate the percentage of cases between 0-18 years old, 18-60 years old, 60+ years old. Those percentages will then be represented in a pie chart. \n",
    "\n",
    "Importing pandas"
   ]
  },
  {
   "cell_type": "code",
   "execution_count": 1,
   "metadata": {},
   "outputs": [],
   "source": [
    "import pandas as pd\n",
    "df = pd.read_csv('patient.csv')"
   ]
  },
  {
   "cell_type": "markdown",
   "metadata": {},
   "source": [
    "## Under 18\n",
    "\n",
    "In the cells below, I will be calculating the percentage of patients that are under 18."
   ]
  },
  {
   "cell_type": "code",
   "execution_count": 5,
   "metadata": {},
   "outputs": [
    {
     "name": "stdout",
     "output_type": "stream",
     "text": [
      "Percentage of patients under 18: 11.68\n"
     ]
    }
   ],
   "source": [
    "total = 0\n",
    "count = 0\n",
    "\n",
    "for i in df['birth_year']:\n",
    "    if i > 1:\n",
    "        if i > 2002:\n",
    "            total = total + 1\n",
    "        count = count + 1\n",
    "\n",
    "underEighteen = (total/count)*100\n",
    "print(f\"Percentage of patients under 18: {round(underEighteen,2)}\")"
   ]
  },
  {
   "cell_type": "markdown",
   "metadata": {},
   "source": [
    "## Between 18 and 60 years old\n",
    "\n",
    "In the cells below, I will be calculating the percentage of patients between 18 and 60 years old"
   ]
  },
  {
   "cell_type": "code",
   "execution_count": 8,
   "metadata": {},
   "outputs": [
    {
     "name": "stdout",
     "output_type": "stream",
     "text": [
      "Percentage of patients between 18 and 60 years old: 44.53\n"
     ]
    }
   ],
   "source": [
    "total = 0\n",
    "count = 0\n",
    "\n",
    "for i in df['birth_year']:\n",
    "    if i > 1:\n",
    "        if i >= 1960 and i <= 2002:\n",
    "            total = total + 1\n",
    "        count = count + 1\n",
    "\n",
    "aboveEighteen = (total/count)*100\n",
    "print(f\"Percentage of patients between 18 and 60 years old: {round(aboveEighteen,2)}\")"
   ]
  },
  {
   "cell_type": "markdown",
   "metadata": {},
   "source": [
    "## Above 60 years old\n",
    "\n",
    "In the cells below, I will be calculating the percentage of patients above 60 years old."
   ]
  },
  {
   "cell_type": "code",
   "execution_count": 9,
   "metadata": {},
   "outputs": [
    {
     "name": "stdout",
     "output_type": "stream",
     "text": [
      "Percentage of patients above 60 years old: 43.8\n"
     ]
    }
   ],
   "source": [
    "total = 0\n",
    "count = 0\n",
    "\n",
    "for i in df['birth_year']:\n",
    "    if i > 1:\n",
    "        if i < 1960:\n",
    "            total = total + 1\n",
    "        count = count + 1\n",
    "\n",
    "aboveSixty = (total/count)*100\n",
    "print(f\"Percentage of patients above 60 years old: {round(aboveSixty,2)}\")"
   ]
  },
  {
   "cell_type": "markdown",
   "metadata": {},
   "source": [
    "## Making a pie chart\n",
    "\n",
    "In the cell below, I will be making a pie chart of the results"
   ]
  },
  {
   "cell_type": "code",
   "execution_count": 14,
   "metadata": {},
   "outputs": [
    {
     "data": {
      "image/png": "[encoded data removed]",
      "text/plain": [
       "<Figure size 432x288 with 1 Axes>"
      ]
     },
     "metadata": {},
     "output_type": "display_data"
    }
   ],
   "source": [
    "import matplotlib.pyplot as plt\n",
    "\n",
    "labels = 'Under 18', 'Between 18 and 60', 'Above 60',\n",
    "sizes = [11.67, 44.53, 43.8]\n",
    "explode = (0, 0, 0.1) \n",
    "\n",
    "fig1, ax1 = plt.subplots()\n",
    "ax1.pie(sizes, explode=explode, labels=labels, autopct='%1.1f%%',\n",
    "        shadow=True, startangle=90)\n",
    "ax1.axis('equal')  # Equal aspect ratio ensures that pie is drawn as a circle.\n",
    "\n",
    "plt.show()"
   ]
  },
  {
   "cell_type": "markdown",
   "metadata": {},
   "source": [
    "## Conclusion\n",
    "\n",
    "In conclusion, we can see that the majority of patients are between 18 and 60 years old. Also, only 11.7% of the patients are under eighteen, which makes them less affected by the COVID-19, and probably less prone to getting the virus"
   ]
  }
 ],
 "metadata": {
  "kernelspec": {
   "display_name": "Python 3",
   "language": "python",
   "name": "python3"
  },
  "language_info": {
   "codemirror_mode": {
    "name": "ipython",
    "version": 3
   },
   "file_extension": ".py",
   "mimetype": "text/x-python",
   "name": "python",
   "nbconvert_exporter": "python",
   "pygments_lexer": "ipython3",
   "version": "3.7.4"
  }
 },
 "nbformat": 4,
 "nbformat_minor": 4
}
