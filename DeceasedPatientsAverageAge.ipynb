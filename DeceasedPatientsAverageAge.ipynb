{
 "cells": [
  {
   "cell_type": "markdown",
   "metadata": {
    "colab_type": "text",
    "id": "AnVvg4YS51L6"
   },
   "source": [
    "# Calculating the average age of deceased patients\n",
    "\n",
    "## Introduction\n",
    "\n",
    "In this notebook, I will be calculating the average age of deceased patients from COVID-19. For this, I am using a database from kaggle (link on the README and on the previous notebook). \n",
    "\n",
    "Author: Arthur Gatignol (arthur.gatignol@gmail.com)\n",
    "\n",
    "Version: 0.1\n",
    "\n",
    "## Getting the data\n",
    "\n",
    "For this, I am opening the CSV file using pandas."
   ]
  },
  {
   "cell_type": "code",
   "execution_count": 4,
   "metadata": {
    "colab": {},
    "colab_type": "code",
    "id": "mmuqzzyQ51L8"
   },
   "outputs": [],
   "source": [
    "import pandas as pd\n",
    "df = pd.read_csv('patient.csv')"
   ]
  },
  {
   "cell_type": "markdown",
   "metadata": {
    "colab_type": "text",
    "id": "yFPj6cqw51MB"
   },
   "source": [
    "## Calculating the average age of patients\n",
    "\n",
    "Before calculating the average age of deceased patients, we need to calculate the average age of all the patients"
   ]
  },
  {
   "cell_type": "code",
   "execution_count": 5,
   "metadata": {
    "colab": {
     "base_uri": "https://localhost:8080/",
     "height": 34
    },
    "colab_type": "code",
    "id": "YPhYKYwi51MC",
    "outputId": "ed88eccd-f54d-49ef-a3b1-69194fee3d85"
   },
   "outputs": [
    {
     "name": "stdout",
     "output_type": "stream",
     "text": [
      "1965.8102189781023\n"
     ]
    }
   ],
   "source": [
    "count = 0\n",
    "total = 0\n",
    "for i in df['birth_year']:\n",
    "    if i > 0:\n",
    "        total = total + i\n",
    "        count = count + 1\n",
    "average = total/count\n",
    "print(average)"
   ]
  },
  {
   "cell_type": "markdown",
   "metadata": {
    "colab_type": "text",
    "id": "HQYmQee-51MF"
   },
   "source": [
    "As seen in the above calculations, the average birth date of COVID-19 patients (for the total of 137 disclosed birth dates) is 1966 (rounded up), which is equivalent to 54 years old."
   ]
  },
  {
   "cell_type": "markdown",
   "metadata": {
    "colab_type": "text",
    "id": "In-UTyiM51MG"
   },
   "source": [
    "## Finding the youngest and oldest patients infected by COVID-19\n",
    "\n",
    "In the cell below I am finding out the youngest and oldest patients infected by COVID-19. This has been done by setting an initial maximum value of 999,999 and an initial minimum value of -999,999. Then, I run a 'for loop' that will go through the 'birth_date' column and compare the value in the cell to the initial 2 values. At the end of the loop, I outputted the two values in a proper sentence."
   ]
  },
  {
   "cell_type": "code",
   "execution_count": 6,
   "metadata": {
    "colab": {
     "base_uri": "https://localhost:8080/",
     "height": 51
    },
    "colab_type": "code",
    "id": "VhhrherF51MG",
    "outputId": "9cfb1fce-f0ed-45ec-9110-120aab5030f6"
   },
   "outputs": [
    {
     "name": "stdout",
     "output_type": "stream",
     "text": [
      "The youngest person infected by COVID-19 was: 1 year old\n",
      "The oldest person infected by COVID-19 was: 98 years old\n"
     ]
    }
   ],
   "source": [
    "minimum = 999999\n",
    "maximum = -999999\n",
    "for i in df['birth_year']:\n",
    "    if i > 0:\n",
    "        if i > maximum:\n",
    "            maximum = i\n",
    "        elif i < minimum:\n",
    "            minimum = i\n",
    "print(f\"The youngest person infected by COVID-19 was: {int(2020-maximum)} year old\")\n",
    "print(f\"The oldest person infected by COVID-19 was: {int(2020-minimum)} years old\")"
   ]
  },
  {
   "cell_type": "markdown",
   "metadata": {
    "colab_type": "text",
    "id": "-GYQ97re51MI"
   },
   "source": [
    "## Calculating the average age of deceased patients\n",
    "\n",
    "Now that we have the average age of patients infected by COVID-19, we can start calculating the average age of deceased patients."
   ]
  },
  {
   "cell_type": "code",
   "execution_count": 21,
   "metadata": {
    "colab": {
     "base_uri": "https://localhost:8080/",
     "height": 34
    },
    "colab_type": "code",
    "id": "7lo5nesm51MJ",
    "outputId": "f73be099-5e21-4e1a-9c5c-c0791ce7cc27"
   },
   "outputs": [
    {
     "name": "stdout",
     "output_type": "stream",
     "text": [
      "The average birth year of deceased patients: 1940.0\n"
     ]
    }
   ],
   "source": [
    "# Here, I am setting two variables that\n",
    "# will be used to calculate the average\n",
    "total = 0\n",
    "count = 0\n",
    "\n",
    "# Defining 'column' as the birth year \n",
    "# column so that I can iterate through\n",
    "# it later on\n",
    "column = df['birth_year']\n",
    "\n",
    "# Running  a loop that goes through the\n",
    "# status column\n",
    "for i, n in enumerate(df['status']):\n",
    "\n",
    "  # If the status of that patient is \n",
    "  # deceased, run the following steps\n",
    "  if n == 'deceased':\n",
    "\n",
    "    # If the birth year is more than 1\n",
    "    # run the following steps\n",
    "    if column[i] > 1:\n",
    "\n",
    "      # Increment the total birth years\n",
    "      # with the new birth year\n",
    "      total = total + column[i]\n",
    "\n",
    "      # Increment count by 1 to have the\n",
    "      # total number of deceased patients\n",
    "      count = count + 1\n",
    "\n",
    "# Calculating the average \n",
    "average = total/count\n",
    "\n",
    "# Printing the average\n",
    "print(f'The average birth year of deceased patients: {round(average)}')\n",
    "    "
   ]
  },
  {
   "cell_type": "markdown",
   "metadata": {
    "colab": {},
    "colab_type": "code",
    "id": "yXdJSX5I51ML"
   },
   "source": [
    "From the above calculations, we can see that the average birth year of deceased patients was 1940. That means that the average age of deceased patients is 80 years old. "
   ]
  },
  {
   "cell_type": "markdown",
   "metadata": {},
   "source": [
    "## Conclusion\n",
    "\n",
    "In conclusion, we can see from all the above calculations that the average age of COVID-19 patients is **54 years old**, and the average age of **deceased** patients is **80 years old**. This is due to an immune system more prone to diseases. "
   ]
  }
 ],
 "metadata": {
  "colab": {
   "name": "AverageAge.ipynb",
   "provenance": [],
   "toc_visible": true
  },
  "kernelspec": {
   "display_name": "Python 3",
   "language": "python",
   "name": "python3"
  },
  "language_info": {
   "codemirror_mode": {
    "name": "ipython",
    "version": 3
   },
   "file_extension": ".py",
   "mimetype": "text/x-python",
   "name": "python",
   "nbconvert_exporter": "python",
   "pygments_lexer": "ipython3",
   "version": "3.7.4"
  }
 },
 "nbformat": 4,
 "nbformat_minor": 4
}
